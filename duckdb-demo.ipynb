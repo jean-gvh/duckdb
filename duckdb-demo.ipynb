{
 "cells": [
  {
   "cell_type": "code",
   "execution_count": 1,
   "metadata": {},
   "outputs": [
    {
     "name": "stdout",
     "output_type": "stream",
     "text": [
      "Requirement already satisfied: duckdb in c:\\python312\\lib\\site-packages (0.10.1)\n"
     ]
    }
   ],
   "source": [
    "!pip install duckdb"
   ]
  },
  {
   "cell_type": "markdown",
   "metadata": {},
   "source": [
    "# Importing duckdb"
   ]
  },
  {
   "cell_type": "code",
   "execution_count": 1,
   "metadata": {},
   "outputs": [],
   "source": [
    "import duckdb"
   ]
  },
  {
   "cell_type": "markdown",
   "metadata": {},
   "source": [
    "# File PAth"
   ]
  },
  {
   "cell_type": "code",
   "execution_count": 3,
   "metadata": {},
   "outputs": [],
   "source": [
    "file_path = \"C:/Users/Jean_Professionel/OneDrive - ESEO/Bureau/S8/Big_Data_fondamentaux/duckdb-lab/fd-logemt-2020.parquet\""
   ]
  },
  {
   "cell_type": "markdown",
   "metadata": {},
   "source": [
    "# DuckDB connection "
   ]
  },
  {
   "cell_type": "markdown",
   "metadata": {},
   "source": [
    "# CRUD OPERATIONS"
   ]
  },
  {
   "cell_type": "markdown",
   "metadata": {},
   "source": [
    "## CREATE"
   ]
  },
  {
   "cell_type": "code",
   "execution_count": 2,
   "metadata": {},
   "outputs": [
    {
     "data": {
      "text/plain": [
       "<duckdb.duckdb.DuckDBPyConnection at 0x217581aa4b0>"
      ]
     },
     "execution_count": 2,
     "metadata": {},
     "output_type": "execute_result"
    }
   ],
   "source": [
    "# Create a DuckDB table from the Parquet file\n",
    "duckdb.execute(\"CREATE TABLE Crime AS SELECT * FROM read_parquet('https://static.data.gouv.fr/resources/bases-statistiques-communale-et-departementale-de-la-delinquance-enregistree-par-la-police-et-la-gendarmerie-nationales/20240314-090048/donnee-comm-data.gouv-parquet-2023-geographie2023-produit-le2024-03-07.parquet');\")"
   ]
  },
  {
   "cell_type": "markdown",
   "metadata": {},
   "source": [
    "## READ v1"
   ]
  },
  {
   "cell_type": "code",
   "execution_count": 3,
   "metadata": {},
   "outputs": [
    {
     "name": "stdout",
     "output_type": "stream",
     "text": [
      "┌─────────────┬───────┬───────────────────────────────────────────────┬──────────────────┬────────────────┬────────┬───────────────┬────────────────────┬────────────────────┬───────┬─────────┬────────┬─────────┐\n",
      "│ CODGEO_2023 │ annee │                    classe                     │ unité.de.compte  │ valeur.publiée │ faits  │ tauxpourmille │ complementinfoval  │ complementinfotaux │  POP  │ millPOP │  LOG   │ millLOG │\n",
      "│   varchar   │ int32 │                    varchar                    │     varchar      │    varchar     │ double │    double     │       double       │       double       │ int32 │  int32  │ double │  int32  │\n",
      "├─────────────┼───────┼───────────────────────────────────────────────┼──────────────────┼────────────────┼────────┼───────────────┼────────────────────┼────────────────────┼───────┼─────────┼────────┼─────────┤\n",
      "│ 01001       │    16 │ Coups et blessures volontaires                │ victime          │ ndiff          │   NULL │          NULL │ 1.7060931899641576 │ 1.5332581736189401 │   767 │      16 │  348.0 │      16 │\n",
      "│ 01001       │    16 │ Coups et blessures volontaires intrafamiliaux │ victime          │ diff           │    0.0 │           0.0 │               NULL │               NULL │   767 │      16 │  348.0 │      16 │\n",
      "│ 01001       │    16 │ Autres coups et blessures volontaires         │ victime          │ ndiff          │   NULL │          NULL │  1.413953488372093 │ 0.9026959132224165 │   767 │      16 │  348.0 │      16 │\n",
      "│ 01001       │    16 │ Violences sexuelles                           │ victime          │ diff           │    0.0 │           0.0 │               NULL │               NULL │   767 │      16 │  348.0 │      16 │\n",
      "│ 01001       │    16 │ Vols avec armes                               │ infraction       │ diff           │    0.0 │           0.0 │               NULL │               NULL │   767 │      16 │  348.0 │      16 │\n",
      "│ 01001       │    16 │ Vols violents sans arme                       │ infraction       │ diff           │    0.0 │           0.0 │               NULL │               NULL │   767 │      16 │  348.0 │      16 │\n",
      "│ 01001       │    16 │ Vols sans violence contre des personnes       │ victime entendue │ ndiff          │   NULL │          NULL │ 2.0034246575342465 │  2.210341374945686 │   767 │      16 │  348.0 │      16 │\n",
      "│ 01001       │    16 │ Cambriolages de logement                      │ infraction       │ ndiff          │   NULL │          NULL │ 2.7644927536231885 │  6.696477992871315 │   767 │      16 │  348.0 │      16 │\n",
      "│ 01001       │    16 │ Vols de véhicules                             │ véhicule         │ ndiff          │   NULL │          NULL │ 1.9781021897810218 │ 1.6560793695898606 │   767 │      16 │  348.0 │      16 │\n",
      "│ 01001       │    16 │ Vols dans les véhicules                       │ véhicule         │ diff           │    0.0 │           0.0 │               NULL │               NULL │   767 │      16 │  348.0 │      16 │\n",
      "├─────────────┴───────┴───────────────────────────────────────────────┴──────────────────┴────────────────┴────────┴───────────────┴────────────────────┴────────────────────┴───────┴─────────┴────────┴─────────┤\n",
      "│ 10 rows                                                                                                                                                                                              13 columns │\n",
      "└─────────────────────────────────────────────────────────────────────────────────────────────────────────────────────────────────────────────────────────────────────────────────────────────────────────────────┘\n",
      "\n"
     ]
    }
   ],
   "source": [
    "# Vizualize the table previously created\n",
    "duckdb.sql(\"SELECT * FROM Crime LIMIT 10\").show(max_width=250)"
   ]
  },
  {
   "cell_type": "code",
   "execution_count": 14,
   "metadata": {},
   "outputs": [
    {
     "data": {
      "text/plain": [
       "┌────────────────────┬─────────────┬─────────┬─────────┬─────────┬─────────┐\n",
       "│    column_name     │ column_type │  null   │   key   │ default │  extra  │\n",
       "│      varchar       │   varchar   │ varchar │ varchar │ varchar │ varchar │\n",
       "├────────────────────┼─────────────┼─────────┼─────────┼─────────┼─────────┤\n",
       "│ CODGEO_2023        │ VARCHAR     │ YES     │ NULL    │ NULL    │ NULL    │\n",
       "│ annee              │ INTEGER     │ YES     │ NULL    │ NULL    │ NULL    │\n",
       "│ classe             │ VARCHAR     │ YES     │ NULL    │ NULL    │ NULL    │\n",
       "│ unité.de.compte    │ VARCHAR     │ YES     │ NULL    │ NULL    │ NULL    │\n",
       "│ valeur.publiée     │ VARCHAR     │ YES     │ NULL    │ NULL    │ NULL    │\n",
       "│ faits              │ DOUBLE      │ YES     │ NULL    │ NULL    │ NULL    │\n",
       "│ tauxpourmille      │ DOUBLE      │ YES     │ NULL    │ NULL    │ NULL    │\n",
       "│ complementinfoval  │ DOUBLE      │ YES     │ NULL    │ NULL    │ NULL    │\n",
       "│ complementinfotaux │ DOUBLE      │ YES     │ NULL    │ NULL    │ NULL    │\n",
       "│ POP                │ INTEGER     │ YES     │ NULL    │ NULL    │ NULL    │\n",
       "│ millPOP            │ INTEGER     │ YES     │ NULL    │ NULL    │ NULL    │\n",
       "│ LOG                │ DOUBLE      │ YES     │ NULL    │ NULL    │ NULL    │\n",
       "│ millLOG            │ INTEGER     │ YES     │ NULL    │ NULL    │ NULL    │\n",
       "├────────────────────┴─────────────┴─────────┴─────────┴─────────┴─────────┤\n",
       "│ 13 rows                                                        6 columns │\n",
       "└──────────────────────────────────────────────────────────────────────────┘"
      ]
     },
     "execution_count": 14,
     "metadata": {},
     "output_type": "execute_result"
    }
   ],
   "source": [
    "duckdb.sql(\"DESCRIBE Crime\")"
   ]
  },
  {
   "cell_type": "markdown",
   "metadata": {},
   "source": [
    "# UPDATE"
   ]
  },
  {
   "cell_type": "code",
   "execution_count": 6,
   "metadata": {},
   "outputs": [
    {
     "data": {
      "text/plain": [
       "<duckdb.duckdb.DuckDBPyConnection at 0x217581aa4b0>"
      ]
     },
     "execution_count": 6,
     "metadata": {},
     "output_type": "execute_result"
    }
   ],
   "source": [
    "duckdb.execute(\"UPDATE Crime SET classe = 'Vols de voitures' WHERE classe = 'Vols de véhicules'\") "
   ]
  },
  {
   "cell_type": "code",
   "execution_count": 8,
   "metadata": {},
   "outputs": [
    {
     "name": "stdout",
     "output_type": "stream",
     "text": [
      "┌─────────────┬───────┬───────────────────────────────────────────────┬──────────────────┬────────────────┬────────┬───────────────┬────────────────────┬────────────────────┬───────┬─────────┬────────┬─────────┐\n",
      "│ CODGEO_2023 │ annee │                    classe                     │ unité.de.compte  │ valeur.publiée │ faits  │ tauxpourmille │ complementinfoval  │ complementinfotaux │  POP  │ millPOP │  LOG   │ millLOG │\n",
      "│   varchar   │ int32 │                    varchar                    │     varchar      │    varchar     │ double │    double     │       double       │       double       │ int32 │  int32  │ double │  int32  │\n",
      "├─────────────┼───────┼───────────────────────────────────────────────┼──────────────────┼────────────────┼────────┼───────────────┼────────────────────┼────────────────────┼───────┼─────────┼────────┼─────────┤\n",
      "│ 01001       │    16 │ Coups et blessures volontaires                │ victime          │ ndiff          │   NULL │          NULL │ 1.7060931899641576 │ 1.5332581736189401 │   767 │      16 │  348.0 │      16 │\n",
      "│ 01001       │    16 │ Coups et blessures volontaires intrafamiliaux │ victime          │ diff           │    0.0 │           0.0 │               NULL │               NULL │   767 │      16 │  348.0 │      16 │\n",
      "│ 01001       │    16 │ Autres coups et blessures volontaires         │ victime          │ ndiff          │   NULL │          NULL │  1.413953488372093 │ 0.9026959132224165 │   767 │      16 │  348.0 │      16 │\n",
      "│ 01001       │    16 │ Violences sexuelles                           │ victime          │ diff           │    0.0 │           0.0 │               NULL │               NULL │   767 │      16 │  348.0 │      16 │\n",
      "│ 01001       │    16 │ Vols avec armes                               │ infraction       │ diff           │    0.0 │           0.0 │               NULL │               NULL │   767 │      16 │  348.0 │      16 │\n",
      "│ 01001       │    16 │ Vols violents sans arme                       │ infraction       │ diff           │    0.0 │           0.0 │               NULL │               NULL │   767 │      16 │  348.0 │      16 │\n",
      "│ 01001       │    16 │ Vols sans violence contre des personnes       │ victime entendue │ ndiff          │   NULL │          NULL │ 2.0034246575342465 │  2.210341374945686 │   767 │      16 │  348.0 │      16 │\n",
      "│ 01001       │    16 │ Cambriolages de logement                      │ infraction       │ ndiff          │   NULL │          NULL │ 2.7644927536231885 │  6.696477992871315 │   767 │      16 │  348.0 │      16 │\n",
      "│ 01001       │    16 │ Vols de voitures                              │ véhicule         │ ndiff          │   NULL │          NULL │ 1.9781021897810218 │ 1.6560793695898606 │   767 │      16 │  348.0 │      16 │\n",
      "│ 01001       │    16 │ Vols dans les véhicules                       │ véhicule         │ diff           │    0.0 │           0.0 │               NULL │               NULL │   767 │      16 │  348.0 │      16 │\n",
      "├─────────────┴───────┴───────────────────────────────────────────────┴──────────────────┴────────────────┴────────┴───────────────┴────────────────────┴────────────────────┴───────┴─────────┴────────┴─────────┤\n",
      "│ 10 rows                                                                                                                                                                                              13 columns │\n",
      "└─────────────────────────────────────────────────────────────────────────────────────────────────────────────────────────────────────────────────────────────────────────────────────────────────────────────────┘\n",
      "\n"
     ]
    }
   ],
   "source": [
    "# Vizualize the table previously created\n",
    "duckdb.sql(\"SELECT * FROM Crime LIMIT 10\").show(max_width=250)"
   ]
  },
  {
   "cell_type": "markdown",
   "metadata": {},
   "source": [
    "## DELETE"
   ]
  },
  {
   "cell_type": "code",
   "execution_count": 9,
   "metadata": {},
   "outputs": [
    {
     "data": {
      "text/plain": [
       "<duckdb.duckdb.DuckDBPyConnection at 0x217581aa4b0>"
      ]
     },
     "execution_count": 9,
     "metadata": {},
     "output_type": "execute_result"
    }
   ],
   "source": [
    "duckdb.execute(\"DELETE FROM Crime WHERE annee = 16\")"
   ]
  },
  {
   "cell_type": "code",
   "execution_count": 11,
   "metadata": {},
   "outputs": [
    {
     "name": "stdout",
     "output_type": "stream",
     "text": [
      "┌─────────────┬───────┬───────────────────────────────────────────────┬──────────────────┬────────────────┬────────┬───────────────┬────────────────────┬────────────────────┬───────┬─────────┬─────────────────┬─────────┐\n",
      "│ CODGEO_2023 │ annee │                    classe                     │ unité.de.compte  │ valeur.publiée │ faits  │ tauxpourmille │ complementinfoval  │ complementinfotaux │  POP  │ millPOP │       LOG       │ millLOG │\n",
      "│   varchar   │ int32 │                    varchar                    │     varchar      │    varchar     │ double │    double     │       double       │       double       │ int32 │  int32  │     double      │  int32  │\n",
      "├─────────────┼───────┼───────────────────────────────────────────────┼──────────────────┼────────────────┼────────┼───────────────┼────────────────────┼────────────────────┼───────┼─────────┼─────────────────┼─────────┤\n",
      "│ 01001       │    17 │ Coups et blessures volontaires                │ victime          │ ndiff          │   NULL │          NULL │ 1.6738351254480286 │  1.493296155481868 │   776 │      17 │ 353.73043478261 │      17 │\n",
      "│ 01001       │    17 │ Coups et blessures volontaires intrafamiliaux │ victime          │ diff           │    0.0 │           0.0 │               NULL │               NULL │   776 │      17 │ 353.73043478261 │      17 │\n",
      "│ 01001       │    17 │ Autres coups et blessures volontaires         │ victime          │ ndiff          │   NULL │          NULL │ 1.4697674418604652 │ 0.9312358914815492 │   776 │      17 │ 353.73043478261 │      17 │\n",
      "│ 01001       │    17 │ Violences sexuelles                           │ victime          │ diff           │    0.0 │           0.0 │               NULL │               NULL │   776 │      17 │ 353.73043478261 │      17 │\n",
      "│ 01001       │    17 │ Vols avec armes                               │ infraction       │ diff           │    0.0 │           0.0 │               NULL │               NULL │   776 │      17 │ 353.73043478261 │      17 │\n",
      "│ 01001       │    17 │ Vols violents sans arme                       │ infraction       │ diff           │    0.0 │           0.0 │               NULL │               NULL │   776 │      17 │ 353.73043478261 │      17 │\n",
      "│ 01001       │    17 │ Vols sans violence contre des personnes       │ victime entendue │ ndiff          │   NULL │          NULL │ 2.0924657534246576 │ 2.2927087359332377 │   776 │      17 │ 353.73043478261 │      17 │\n",
      "│ 01001       │    17 │ Cambriolages de logement                      │ infraction       │ ndiff          │   NULL │          NULL │  2.800724637681159 │  6.699307790219851 │   776 │      17 │ 353.73043478261 │      17 │\n",
      "│ 01001       │    17 │ Vols de voitures                              │ véhicule         │ ndiff          │   NULL │          NULL │ 1.7262773722627738 │ 1.4366637811897276 │   776 │      17 │ 353.73043478261 │      17 │\n",
      "│ 01001       │    17 │ Vols dans les véhicules                       │ véhicule         │ diff           │    0.0 │           0.0 │               NULL │               NULL │   776 │      17 │ 353.73043478261 │      17 │\n",
      "├─────────────┴───────┴───────────────────────────────────────────────┴──────────────────┴────────────────┴────────┴───────────────┴────────────────────┴────────────────────┴───────┴─────────┴─────────────────┴─────────┤\n",
      "│ 10 rows                                                                                                                                                                                                       13 columns │\n",
      "└──────────────────────────────────────────────────────────────────────────────────────────────────────────────────────────────────────────────────────────────────────────────────────────────────────────────────────────┘\n",
      "\n"
     ]
    }
   ],
   "source": [
    "# Vizualize the table previously created\n",
    "duckdb.sql(\"SELECT * FROM Crime LIMIT 10\").show(max_width=250)"
   ]
  },
  {
   "cell_type": "markdown",
   "metadata": {},
   "source": [
    "# GROUP BY"
   ]
  },
  {
   "cell_type": "code",
   "execution_count": 23,
   "metadata": {},
   "outputs": [],
   "source": [
    "duckdb.sql(\"ALTER TABLE Crime RENAME COLUMN 'unité.de.compte' TO unite_de_compte\")"
   ]
  },
  {
   "cell_type": "code",
   "execution_count": 32,
   "metadata": {},
   "outputs": [
    {
     "data": {
      "text/plain": [
       "┌───────┬──────────────────┬────────────────────────┐\n",
       "│ annee │ unite_de_compte  │ nombre_faits_par_annee │\n",
       "│ int32 │     varchar      │         int64          │\n",
       "├───────┼──────────────────┼────────────────────────┤\n",
       "│    22 │ infraction       │                  83894 │\n",
       "│    23 │ infraction       │                  83701 │\n",
       "│    21 │ infraction       │                  83554 │\n",
       "│    20 │ infraction       │                  83278 │\n",
       "│    19 │ infraction       │                  83121 │\n",
       "│    18 │ infraction       │                  83086 │\n",
       "│    17 │ infraction       │                  83086 │\n",
       "│    18 │ victime          │                  69890 │\n",
       "│    17 │ victime          │                  69890 │\n",
       "│    19 │ victime          │                  67590 │\n",
       "│     · │    ·             │                    ·   │\n",
       "│     · │    ·             │                    ·   │\n",
       "│     · │    ·             │                    ·   │\n",
       "│    18 │ Mis en cause     │                  45704 │\n",
       "│    17 │ Mis en cause     │                  45704 │\n",
       "│    19 │ Mis en cause     │                  45660 │\n",
       "│    18 │ victime entendue │                  11851 │\n",
       "│    17 │ victime entendue │                  11851 │\n",
       "│    21 │ victime entendue │                  11719 │\n",
       "│    19 │ victime entendue │                  11717 │\n",
       "│    20 │ victime entendue │                  11686 │\n",
       "│    22 │ victime entendue │                  11633 │\n",
       "│    23 │ victime entendue │                  11496 │\n",
       "├───────┴──────────────────┴────────────────────────┤\n",
       "│ 35 rows (20 shown)                      3 columns │\n",
       "└───────────────────────────────────────────────────┘"
      ]
     },
     "execution_count": 32,
     "metadata": {},
     "output_type": "execute_result"
    }
   ],
   "source": [
    "duckdb.sql(\"SELECT annee, unite_de_compte, COUNT(faits) AS nombre_faits_par_annee FROM Crime GROUP BY annee, unite_de_compte ORDER BY nombre_faits_par_annee DESC, annee DESC \")"
   ]
  }
 ],
 "metadata": {
  "kernelspec": {
   "display_name": "Python 3",
   "language": "python",
   "name": "python3"
  },
  "language_info": {
   "codemirror_mode": {
    "name": "ipython",
    "version": 3
   },
   "file_extension": ".py",
   "mimetype": "text/x-python",
   "name": "python",
   "nbconvert_exporter": "python",
   "pygments_lexer": "ipython3",
   "version": "3.12.2"
  }
 },
 "nbformat": 4,
 "nbformat_minor": 2
}
